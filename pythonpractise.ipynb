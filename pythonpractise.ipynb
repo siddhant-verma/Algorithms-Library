{
  "nbformat": 4,
  "nbformat_minor": 0,
  "metadata": {
    "colab": {
      "provenance": [],
      "authorship_tag": "ABX9TyN2H4YV4jrdH8imTGrMswNk",
      "include_colab_link": true
    },
    "kernelspec": {
      "name": "python3",
      "display_name": "Python 3"
    },
    "language_info": {
      "name": "python"
    }
  },
  "cells": [
    {
      "cell_type": "markdown",
      "metadata": {
        "id": "view-in-github",
        "colab_type": "text"
      },
      "source": [
        "<a href=\"https://colab.research.google.com/github/siddhant-verma/Algorithms-Library/blob/main/pythonpractise.ipynb\" target=\"_parent\"><img src=\"https://colab.research.google.com/assets/colab-badge.svg\" alt=\"Open In Colab\"/></a>"
      ]
    },
    {
      "cell_type": "code",
      "execution_count": 66,
      "metadata": {
        "id": "cZ5PRPUj4Me6",
        "colab": {
          "base_uri": "https://localhost:8080/"
        },
        "outputId": "77614404-0825-4fad-952d-1dfc2c3201e4"
      },
      "outputs": [
        {
          "output_type": "stream",
          "name": "stdout",
          "text": [
            "Greatest of all time is Neymar\n",
            "Ronaldo is not Goat of Football\n"
          ]
        }
      ],
      "source": [
        "#x = \"Football\"\n",
        "def game():\n",
        "\n",
        " x= \"Neymar\"\n",
        " print(\"Greatest of all time is \" +x)\n",
        "\n",
        "game()\n",
        "print(\"Ronaldo is not Goat of \" +x)\n",
        "\n",
        "\n",
        "\n"
      ]
    },
    {
      "cell_type": "code",
      "source": [
        "x = \"IIT\"\n",
        "\n",
        "def myfunc():\n",
        "  global x\n",
        "  x = \"ISM\"\n",
        "  print(\"college name is \" +x)\n",
        "\n",
        "myfunc()\n",
        "\n",
        "print(\"Institute name is \" + x)"
      ],
      "metadata": {
        "colab": {
          "base_uri": "https://localhost:8080/"
        },
        "id": "s2h-1HnM67Ck",
        "outputId": "f0625725-2a05-449c-ac5e-0fbd234cb760"
      },
      "execution_count": 50,
      "outputs": [
        {
          "output_type": "stream",
          "name": "stdout",
          "text": [
            "college name is ISM\n",
            "Institute name is ISM\n"
          ]
        }
      ]
    },
    {
      "cell_type": "code",
      "source": [
        "b = \"mountain paglu\"\n",
        "print(b[0:8])"
      ],
      "metadata": {
        "colab": {
          "base_uri": "https://localhost:8080/"
        },
        "id": "pEyyUVwO8bZ1",
        "outputId": "e5962390-1d5e-4e4a-8a31-525434406d88"
      },
      "execution_count": 46,
      "outputs": [
        {
          "output_type": "stream",
          "name": "stdout",
          "text": [
            "mountain\n"
          ]
        }
      ]
    },
    {
      "cell_type": "code",
      "source": [
        "a = 200\n",
        "b = 400\n",
        "if b > a:\n",
        "  print(\"b is greater than a\")\n",
        "elif a == b:\n",
        "  print(\"a and b are equal\")\n",
        "else:\n",
        "  print(\"a is greater than b\")"
      ],
      "metadata": {
        "colab": {
          "base_uri": "https://localhost:8080/"
        },
        "id": "eNvbEV0Q8wYu",
        "outputId": "244faef6-4db2-4c95-a386-85c38880d041"
      },
      "execution_count": 47,
      "outputs": [
        {
          "output_type": "stream",
          "name": "stdout",
          "text": [
            "b is greater than a\n"
          ]
        }
      ]
    },
    {
      "cell_type": "code",
      "source": [
        "# The while Loop\n",
        "\n",
        "i = 1\n",
        "while i < 11:\n",
        "  print(i, end= \" \")\n",
        "  i += 1"
      ],
      "metadata": {
        "colab": {
          "base_uri": "https://localhost:8080/"
        },
        "id": "0RvsO7U1-DX4",
        "outputId": "62d5baba-c1ff-4a44-c84b-f6ac6e5b3d3e"
      },
      "execution_count": 71,
      "outputs": [
        {
          "output_type": "stream",
          "name": "stdout",
          "text": [
            "1 2 3 4 5 6 7 8 9 10 "
          ]
        }
      ]
    },
    {
      "cell_type": "code",
      "source": [
        "for i in range(1, 51, 2):\n",
        "    print(i, end=\" \")\n",
        ""
      ],
      "metadata": {
        "colab": {
          "base_uri": "https://localhost:8080/"
        },
        "id": "ZJyvEs_n-xC4",
        "outputId": "900fc02a-b265-4cdf-e097-69b12839d1de"
      },
      "execution_count": 69,
      "outputs": [
        {
          "output_type": "stream",
          "name": "stdout",
          "text": [
            "1 3 5 7 9 11 13 15 17 19 21 23 25 27 29 31 33 35 37 39 41 43 45 47 49 "
          ]
        }
      ]
    },
    {
      "cell_type": "code",
      "source": [
        "for x in range(10):\n",
        "  if x == 8: break\n",
        "  print(x, end=\"~ \")\n",
        "else:\n",
        "  print(\"Finally finished!\")"
      ],
      "metadata": {
        "colab": {
          "base_uri": "https://localhost:8080/"
        },
        "id": "MMbUEKRFCZ8-",
        "outputId": "72796f98-2eb3-4524-eae0-94e81e6e2726"
      },
      "execution_count": 86,
      "outputs": [
        {
          "output_type": "stream",
          "name": "stdout",
          "text": [
            "0~ 1~ 2~ 3~ 4~ 5~ 6~ 7~ "
          ]
        }
      ]
    },
    {
      "cell_type": "code",
      "source": [
        "def my_function():\n",
        "  print(\"Hello Students.\")\n",
        "\n",
        "my_function()"
      ],
      "metadata": {
        "colab": {
          "base_uri": "https://localhost:8080/"
        },
        "id": "SrZnoae-Dcx3",
        "outputId": "d082af2e-84ca-4b99-f64f-ef982945ee36"
      },
      "execution_count": 87,
      "outputs": [
        {
          "output_type": "stream",
          "name": "stdout",
          "text": [
            "Hello Students.\n"
          ]
        }
      ]
    },
    {
      "cell_type": "code",
      "source": [
        "import numpy as number\n",
        "\n",
        "arr = number.array([1,2,3,4,5,10,20,100])\n",
        "\n",
        "print(arr)"
      ],
      "metadata": {
        "colab": {
          "base_uri": "https://localhost:8080/"
        },
        "id": "GQgVyanNDiT7",
        "outputId": "75dcdc73-9c0e-4d54-b86e-5870e20e27c1"
      },
      "execution_count": 100,
      "outputs": [
        {
          "output_type": "stream",
          "name": "stdout",
          "text": [
            "[  1   2   3   4   5  10  20 100]\n"
          ]
        }
      ]
    },
    {
      "cell_type": "code",
      "source": [
        "import numpy as np\n",
        "\n",
        "arr = np.array([1, 2, 3, 4, 5])\n",
        "\n",
        "print(arr)"
      ],
      "metadata": {
        "colab": {
          "base_uri": "https://localhost:8080/"
        },
        "id": "1WuPODeoDtsC",
        "outputId": "5edee744-3ef7-4bce-af58-810d2d8235a1"
      },
      "execution_count": 96,
      "outputs": [
        {
          "output_type": "stream",
          "name": "stdout",
          "text": [
            "[1 2 3 4 5]\n"
          ]
        }
      ]
    },
    {
      "cell_type": "code",
      "source": [
        "import numpy as np\n",
        "\n",
        "arr = np.array([1, 2, 3, 4, 5, 6, 7])\n",
        "\n",
        "print(arr[0:7:2])"
      ],
      "metadata": {
        "colab": {
          "base_uri": "https://localhost:8080/"
        },
        "id": "g73M06YiETQA",
        "outputId": "e5ee8623-17a2-471d-b8a4-3381554e37be"
      },
      "execution_count": 153,
      "outputs": [
        {
          "output_type": "stream",
          "name": "stdout",
          "text": [
            "[1 3 5 7]\n"
          ]
        }
      ]
    },
    {
      "cell_type": "code",
      "source": [
        "import numpy as np\n",
        "\n",
        "arr = np.array([[1, 2, 3, 4, 5],[11,22,33,44,55], [6, 7, 8, 9, 10]])\n",
        "\n",
        "print(arr[1, 0:4])"
      ],
      "metadata": {
        "colab": {
          "base_uri": "https://localhost:8080/"
        },
        "id": "LUNryMW-FEXR",
        "outputId": "db7f8081-6e1c-41fc-aaef-d2c7ade22d22"
      },
      "execution_count": 143,
      "outputs": [
        {
          "output_type": "stream",
          "name": "stdout",
          "text": [
            "[11 22 33 44]\n"
          ]
        }
      ]
    },
    {
      "cell_type": "code",
      "source": [
        "import numpy as np\n",
        "\n",
        "arr = np.array([[1, 2, 3, 4, 5],[11,22,33,44,55], [6, 7, 8, 9, 10]])\n",
        "\n",
        "print(arr[1, 0:4])"
      ],
      "metadata": {
        "colab": {
          "base_uri": "https://localhost:8080/"
        },
        "id": "HDVijeb3Hb8R",
        "outputId": "53af1a62-4529-4078-bcec-41bd7e0a492e"
      },
      "execution_count": 157,
      "outputs": [
        {
          "output_type": "stream",
          "name": "stdout",
          "text": [
            "[11 22 33 44]\n"
          ]
        }
      ]
    },
    {
      "cell_type": "code",
      "source": [
        "from numpy import random\n",
        "\n",
        "x = random.choice([3, 5, 7, 9], p=[0.9, 0.1, 0.0, 0.0], size=(100))\n",
        "\n",
        "print(x)"
      ],
      "metadata": {
        "colab": {
          "base_uri": "https://localhost:8080/"
        },
        "id": "MXi0GlF_Gs_k",
        "outputId": "2440bafa-3970-4d63-f5f0-02fa51059271"
      },
      "execution_count": 154,
      "outputs": [
        {
          "output_type": "stream",
          "name": "stdout",
          "text": [
            "[3 3 3 3 3 3 3 5 3 3 3 3 3 3 3 3 3 3 5 3 3 3 3 3 3 3 3 5 3 3 3 3 3 3 3 3 3\n",
            " 3 3 3 3 3 5 3 3 5 3 3 3 3 3 3 3 3 3 3 3 3 3 3 5 3 5 3 3 3 3 3 3 3 3 3 5 3\n",
            " 3 3 3 3 3 3 3 3 3 3 3 3 3 3 3 3 5 3 3 3 3 3 3 3 3 3]\n"
          ]
        }
      ]
    },
    {
      "cell_type": "code",
      "source": [
        "import numpy as np\n",
        "from numpy import random\n",
        "\n",
        "arr = np.array([1, 2, 3, 4, 5])\n",
        "\n",
        "print(random.permutation(arr))"
      ],
      "metadata": {
        "colab": {
          "base_uri": "https://localhost:8080/"
        },
        "id": "ptYhH5XnI2de",
        "outputId": "b202e37b-52ab-48c6-87d9-83add5f60625"
      },
      "execution_count": 155,
      "outputs": [
        {
          "output_type": "stream",
          "name": "stdout",
          "text": [
            "[2 3 4 1 5]\n"
          ]
        }
      ]
    },
    {
      "cell_type": "code",
      "source": [
        "import matplotlib.pyplot as plt\n",
        "import numpy as np\n",
        "\n",
        "xpoints = np.array([0, 120])\n",
        "ypoints = np.array([0, 350])\n",
        "\n",
        "plt.plot(xpoints, ypoints)\n",
        "\n",
        "plt.show()"
      ],
      "metadata": {
        "colab": {
          "base_uri": "https://localhost:8080/",
          "height": 430
        },
        "id": "vDUoVEkvHpco",
        "outputId": "81d98d34-1375-4741-9ecd-3d25ea6981bd"
      },
      "execution_count": 150,
      "outputs": [
        {
          "output_type": "display_data",
          "data": {
            "text/plain": [
              "<Figure size 640x480 with 1 Axes>"
            ],
            "image/png": "[encoded data removed]"
          },
          "metadata": {}
        }
      ]
    },
    {
      "cell_type": "code",
      "source": [
        "import matplotlib.pyplot as plt\n",
        "import numpy as np\n",
        "\n",
        "ypoints = np.array([3, 8, 1, 10])\n",
        "\n",
        "plt.plot(ypoints, marker = '*')\n",
        "plt.show()"
      ],
      "metadata": {
        "colab": {
          "base_uri": "https://localhost:8080/",
          "height": 430
        },
        "id": "bGN2GPpnH8-h",
        "outputId": "e283f782-7eaf-4125-b8e9-65098ab2348f"
      },
      "execution_count": 171,
      "outputs": [
        {
          "output_type": "display_data",
          "data": {
            "text/plain": [
              "<Figure size 640x480 with 1 Axes>"
            ],
            "image/png": "[encoded data removed]"
          },
          "metadata": {}
        }
      ]
    },
    {
      "cell_type": "code",
      "source": [
        "import matplotlib.pyplot as plt\n",
        "import numpy as np\n",
        "\n",
        "xpoints = np.array([0, 120])\n",
        "ypoints = np.array([0, 350])\n",
        "\n",
        "plt.plot(xpoints, ypoints)\n",
        "\n",
        "\n",
        "plt.title(\"Health Data\")\n",
        "plt.xlabel(\"Average Pulse\")\n",
        "plt.ylabel(\"Calorie Burn\")\n",
        "plt.show()\n"
      ],
      "metadata": {
        "colab": {
          "base_uri": "https://localhost:8080/",
          "height": 472
        },
        "id": "FW0iM1zfK5n_",
        "outputId": "c139565a-975a-45b0-850f-88bb502c106f"
      },
      "execution_count": 158,
      "outputs": [
        {
          "output_type": "display_data",
          "data": {
            "text/plain": [
              "<Figure size 640x480 with 1 Axes>"
            ],
            "image/png": "[encoded data removed]"
          },
          "metadata": {}
        }
      ]
    },
    {
      "cell_type": "code",
      "source": [
        "# Matplotlib Subplot\n",
        "\n",
        "import matplotlib.pyplot as plt\n",
        "import numpy as np\n",
        "\n",
        "#plot 1:\n",
        "x = np.array([0, 1, 2, 3])\n",
        "y = np.array([3, 8, 1, 10])\n",
        "\n",
        "plt.subplot(1, 2, 1)\n",
        "plt.plot(x,y)\n",
        "\n",
        "#plot 2:\n",
        "x = np.array([0, 1, 2, 3])\n",
        "y = np.array([10, 20, 30, 40])\n",
        "\n",
        "plt.subplot(1, 2, 2)\n",
        "plt.plot(x,y)\n",
        "\n",
        "plt.show()"
      ],
      "metadata": {
        "colab": {
          "base_uri": "https://localhost:8080/",
          "height": 430
        },
        "id": "m3eR3XfuLd0U",
        "outputId": "20b75d95-ae72-47c8-8983-787fa7fae4bb"
      },
      "execution_count": 159,
      "outputs": [
        {
          "output_type": "display_data",
          "data": {
            "text/plain": [
              "<Figure size 640x480 with 2 Axes>"
            ],
            "image/png": "[encoded data removed]"
          },
          "metadata": {}
        }
      ]
    },
    {
      "cell_type": "code",
      "source": [
        " # bubble sort using python\n",
        "arr = [5, 3, 9, 4, 2]\n",
        "\n",
        "for i in range(len(arr)-1):\n",
        "    for j in range(len(arr)-i-1):\n",
        "        if arr[j] > arr[j+1]:\n",
        "            arr[j], arr[j+1] = arr[j+1], arr[j]\n",
        "\n",
        "print(arr)"
      ],
      "metadata": {
        "colab": {
          "base_uri": "https://localhost:8080/"
        },
        "id": "qEavfWzlOgqs",
        "outputId": "899029b8-c7e8-4bb7-b291-2ee55d4bcf66"
      },
      "execution_count": 175,
      "outputs": [
        {
          "output_type": "stream",
          "name": "stdout",
          "text": [
            "[2, 3, 4, 5, 9]\n"
          ]
        }
      ]
    },
    {
      "cell_type": "code",
      "source": [
        " # bubble sort using python\n",
        "\n",
        "arr = [5, 1, 4, 2, 8]\n",
        "n = len(arr)\n",
        "\n",
        "for i in range(n-1):\n",
        "    print(f\"Pass {i+1}:\")\n",
        "    for j in range(n-i-1):\n",
        "        if arr[j] > arr[j+1]:\n",
        "            arr[j], arr[j+1] = arr[j+1], arr[j]\n",
        "        print(arr)\n",
        "    print(\"-\" * 20)\n",
        "\n",
        "print(\"Final sorted array:\", arr)\n",
        "\n"
      ],
      "metadata": {
        "colab": {
          "base_uri": "https://localhost:8080/"
        },
        "id": "2sJyw79zQIr-",
        "outputId": "a3156e9e-64c7-444b-9cb6-96472c173211"
      },
      "execution_count": 180,
      "outputs": [
        {
          "output_type": "stream",
          "name": "stdout",
          "text": [
            "Pass 1:\n",
            "[1, 5, 4, 2, 8]\n",
            "[1, 4, 5, 2, 8]\n",
            "[1, 4, 2, 5, 8]\n",
            "[1, 4, 2, 5, 8]\n",
            "--------------------\n",
            "Pass 2:\n",
            "[1, 4, 2, 5, 8]\n",
            "[1, 2, 4, 5, 8]\n",
            "[1, 2, 4, 5, 8]\n",
            "--------------------\n",
            "Pass 3:\n",
            "[1, 2, 4, 5, 8]\n",
            "[1, 2, 4, 5, 8]\n",
            "--------------------\n",
            "Pass 4:\n",
            "[1, 2, 4, 5, 8]\n",
            "--------------------\n",
            "Final sorted array: [1, 2, 4, 5, 8]\n"
          ]
        }
      ]
    }
  ]
}